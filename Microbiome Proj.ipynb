{
 "cells": [
  {
   "cell_type": "markdown",
   "metadata": {},
   "source": [
    "Take the results.tsv file and parse it"
   ]
  },
  {
   "cell_type": "code",
   "execution_count": 10,
   "metadata": {},
   "outputs": [],
   "source": [
    "import pandas as pd\n",
    "import numpy as np\n",
    "\n",
    "hash_map = {}"
   ]
  },
  {
   "cell_type": "code",
   "execution_count": 19,
   "metadata": {},
   "outputs": [
    {
     "name": "stdout",
     "output_type": "stream",
     "text": [
      "   #Query_id       Hit_xid Hit_tcid        Hit_desc        Match_length    e-value %_identity      Query_Length    Hit_Length\n",
      "0        Q_start Q_end   S_start S_end   Query_Cov...                                                                        \n",
      "1     Family_Abrv     Predicted_Substrate     Quer...                                                                        \n",
      "2   YP_499808.1     P18156  1.A.8.2.1       gnl|BL...                                                                        \n",
      "3    Bacillus subtilis.  262     2.54064e-110    5...                                                                        \n",
      "4     7       6.8     MIP     CHEBI:5448;glycerol ...                                                                        \n",
      "5   YP_500751.1     Q8DSV1  1.A.11.1.9      gnl|BL...                                                                        \n",
      "6   us mutans serotype c (strain ATCC 700610 / UA1...                                                                        \n",
      "7     411     1       402     1       403     96.4...                                                                        \n",
      "8                                              F00909                                                                        \n",
      "9   YP_499231.1     O31539  1.A.14.2.3      gnl|BL...                                                                        \n",
      "10  llus subtilis GN=yetJ PE=3 SV=1      200     2...                                                                        \n",
      "11    92.5    7       7       6.2     CaTA    CHEB...                                                                        \n",
      "12  YP_501149.1     Q5AST3  1.A.16.2.2      gnl|BL...                                                                        \n",
      "13  (Eurofung) OS=Emericella nidulans (strain FGSC...                                                                        \n",
      "14    310     10      264     6       261     92.7...                                                                        \n",
      "15                                             F01226                                                                        \n",
      "16  YP_498873.1     F0PTD8  1.A.16.3.5      gnl|BL...                                                                        \n",
      "17  rotein OS=Bacillus thuringiensis subsp. finiti...                                                                        \n",
      "18  4e-31     31      274     283     21      264 ...                                                                        \n",
      "19                     40;formate     PF01226 PF01226                                                                        \n",
      "20  YP_500469.1     A0CIB0  1.A.17.1.13     gnl|BL...                                                                        \n",
      "21  whole genome shotgun sequence OS=Paramecium te...                                                                        \n",
      "22    320     1371    35      299     120     386 ...                                                                        \n",
      "23                     F00639,PF13616,PF13145 PF04547                                                                        \n",
      "24  YP_499929.1     W7XF35  1.A.17.3.12     gnl|BL...                                                                        \n",
      "25  =Tetrahymena thermophila (strain SB210) GN=TTH...                                                                        \n",
      "26    23      132     754     855     82.0    10.2...                                                                        \n",
      "27  YP_008530241.1  P68805  1.A.22.1.5      gnl|BL...                                                                        \n",
      "28  channel OS=Staphylococcus aureus (strain NCTC ...                                                                        \n",
      "29    1       120     1       120     99.2    99.2...                                                                        \n",
      "30  YP_498933.1     O34897  1.A.23.3.1      gnl|BL...                                                                        \n",
      "31       242     7.86607e-42     35      293     2...                                                                        \n",
      "32    MscS    CHEBI:25728;osmolyte    PF00924 PF00924                                                                        \n",
      "33  YP_499498.1     O34442  1.A.26.1.3      gnl|BL...                                                                        \n",
      "34  us subtilis (strain 168) GN=mgtE PE=3 SV=1   4...                                                                        \n",
      "35    96.7    98.9    4       6       4.3     MgtE...                                                                        \n",
      "36                             F03448,PF00571,PF00571                                                                        \n"
     ]
    }
   ],
   "source": [
    "df = pd.read_table('results.tsv')\n",
    "\n",
    "print(df)"
   ]
  },
  {
   "cell_type": "code",
   "execution_count": null,
   "metadata": {},
   "outputs": [],
   "source": []
  }
 ],
 "metadata": {
  "kernelspec": {
   "display_name": "Python 3",
   "language": "python",
   "name": "python3"
  },
  "language_info": {
   "codemirror_mode": {
    "name": "ipython",
    "version": 3
   },
   "file_extension": ".py",
   "mimetype": "text/x-python",
   "name": "python",
   "nbconvert_exporter": "python",
   "pygments_lexer": "ipython3",
   "version": "3.8.5"
  }
 },
 "nbformat": 4,
 "nbformat_minor": 4
}
